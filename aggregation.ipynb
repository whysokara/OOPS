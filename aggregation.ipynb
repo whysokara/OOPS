{
 "cells": [
  {
   "cell_type": "code",
   "execution_count": 1,
   "metadata": {},
   "outputs": [],
   "source": [
    "class Customer:\n",
    "    def __init__(self, name, gender, address):\n",
    "        self.name = name\n",
    "        self.gender = gender\n",
    "        self.address = address\n",
    "    \n",
    "    ## getter method to access the private variable city    \n",
    "    def print_addess(self):\n",
    "        print(self.address.get_city(), self.address.pin, self.address.state)\n",
    "        \n",
    " \n",
    "class Address:\n",
    "     def __init__(self, city, pin, state):\n",
    "         self.__city = city\n",
    "         self.pin = pin\n",
    "         self.state = state\n",
    "         \n",
    "     def get_city(self):\n",
    "         return self.__city\n",
    "             \n",
    "## to access address class inside Customer class\n",
    "add1 = Address('Gurgaon', 122011, 'Haryana')\n",
    "cust1 = Customer('kara', 'male', add1)   "
   ]
  },
  {
   "cell_type": "code",
   "execution_count": null,
   "metadata": {},
   "outputs": [
    {
     "data": {
      "text/plain": [
       "'Gurgaon'"
      ]
     },
     "execution_count": 14,
     "metadata": {},
     "output_type": "execute_result"
    }
   ],
   "source": [
    "\n",
    "print(cust1.name)\n",
    "print(cust1.address.city)\n",
    "\n",
    "cust1.print_addess()\n",
    "cust1.name\n",
    "cust1.gender\n",
    "cust1.address.get_city()\n",
    "# cust1.print_city()"
   ]
  },
  {
   "cell_type": "code",
   "execution_count": null,
   "metadata": {},
   "outputs": [],
   "source": []
  }
 ],
 "metadata": {
  "kernelspec": {
   "display_name": "venv",
   "language": "python",
   "name": "python3"
  },
  "language_info": {
   "codemirror_mode": {
    "name": "ipython",
    "version": 3
   },
   "file_extension": ".py",
   "mimetype": "text/x-python",
   "name": "python",
   "nbconvert_exporter": "python",
   "pygments_lexer": "ipython3",
   "version": "3.12.8"
  }
 },
 "nbformat": 4,
 "nbformat_minor": 2
}
