{
 "cells": [
  {
   "cell_type": "code",
   "execution_count": 64,
   "metadata": {},
   "outputs": [],
   "source": [
    "class Point:\n",
    "    def __init__(self, x, y):\n",
    "        self.x_cod = x\n",
    "        self.y_cod = y\n",
    "        \n",
    "    def __str__(self):\n",
    "        return f\"<{self.x_cod},{self.y_cod}>\"\n",
    "    \n",
    "\n",
    "    def euclidean_distance(self, other):\n",
    "        return ((self.x_cod - other.x_cod) ** 2 + (self.y_cod - other.y_cod) ** 2) ** 0.5\n",
    "        \n",
    "    def distance_from_origin(self):\n",
    "        # return ((self.x_cod - 0) ** 2 + (self.y_cod - 0) ** 2) ** 0.5\n",
    "        return self.euclidean_distance(Point(0,0))\n",
    "    \n",
    "    \n",
    "    ## Creating another line class to solve problem to check if a point lies on a line or not\n",
    "    \n",
    "class Line:\n",
    "        \n",
    "        def __init__(self, A, B, C):\n",
    "            self.A = A\n",
    "            self.B = B\n",
    "            self.C = C\n",
    "        \n",
    "        def __str__(self):\n",
    "            return '{}x + {}y + {} = 0'.format(self.A, self.B, self.C)  \n",
    "        \n",
    "        def point_on_line(line, point):\n",
    "            if line.A * point.x_cod + line.B * point.y_cod + line.C == 0:\n",
    "                return \"Lies on the line\"\n",
    "            \n",
    "            else:\n",
    "                return \"Doesn't lie on the line\""
   ]
  },
  {
   "cell_type": "code",
   "execution_count": 65,
   "metadata": {},
   "outputs": [
    {
     "data": {
      "text/plain": [
       "3.1622776601683795"
      ]
     },
     "execution_count": 65,
     "metadata": {},
     "output_type": "execute_result"
    }
   ],
   "source": [
    "p1 = Point(0,0)\n",
    "p2 = Point(1,3)\n",
    "# print(p1)\n",
    "# p1.euclidean_distance(p2)\n",
    "p2.distance_from_origin()"
   ]
  },
  {
   "cell_type": "code",
   "execution_count": 66,
   "metadata": {},
   "outputs": [
    {
     "name": "stdout",
     "output_type": "stream",
     "text": [
      "1x + 1y + -2 = 0\n",
      "<1,1>\n"
     ]
    },
    {
     "data": {
      "text/plain": [
       "'Lies on the line'"
      ]
     },
     "execution_count": 66,
     "metadata": {},
     "output_type": "execute_result"
    }
   ],
   "source": [
    "## For solving point on line problem\n",
    "l1 = Line(1,1,-2)\n",
    "p7 = Point(1,1)\n",
    "print(l1)\n",
    "print(p7)\n",
    "\n",
    "l1.point_on_line(p7)\n"
   ]
  }
 ],
 "metadata": {
  "kernelspec": {
   "display_name": "Python 3",
   "language": "python",
   "name": "python3"
  },
  "language_info": {
   "codemirror_mode": {
    "name": "ipython",
    "version": 3
   },
   "file_extension": ".py",
   "mimetype": "text/x-python",
   "name": "python",
   "nbconvert_exporter": "python",
   "pygments_lexer": "ipython3",
   "version": "3.12.4"
  }
 },
 "nbformat": 4,
 "nbformat_minor": 2
}
