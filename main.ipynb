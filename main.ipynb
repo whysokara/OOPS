{
 "cells": [
  {
   "cell_type": "markdown",
   "metadata": {},
   "source": [
    "### Hello OOPS"
   ]
  },
  {
   "cell_type": "code",
   "execution_count": 3,
   "metadata": {},
   "outputs": [],
   "source": [
    "## Syntax to create a class\n",
    "# objectname = classname()"
   ]
  },
  {
   "cell_type": "code",
   "execution_count": 3,
   "metadata": {},
   "outputs": [],
   "source": [
    "## Atm Class\n",
    "class Atm:\n",
    "    def __init__(self):\n",
    "        self.pin = ''\n",
    "        self.balance = 0\n",
    "        self.menu()\n",
    "        \n",
    "    def menu(self):\n",
    "        user_input = input(\"\"\"\n",
    "              Hi, How may I help you?\n",
    "              1. Press 1 to set PIN\n",
    "              2. Press 2 to change your ATM PIN\n",
    "              3. Press 3 to check your account balance\n",
    "              4. Press 4 to withdraw cash\n",
    "              5. Anything to exit\n",
    "              \"\"\")\n",
    "    \n",
    "        if user_input == '1':\n",
    "            self.create_pin()\n",
    "        elif user_input == '2':\n",
    "            self.change_pin()\n",
    "        elif user_input == '3':\n",
    "            self.check_balance()\n",
    "        elif user_input == '4':\n",
    "            self.withdraw_cash()\n",
    "        else:\n",
    "            exit()\n",
    "\n",
    "    def create_pin(self):\n",
    "        user_pin = int(input(\"Enter your PIN\"))\n",
    "        self.pin = str(user_pin)\n",
    "            \n",
    "        user_balance = int(input(\"Enter your balance\"))\n",
    "        self.balance = user_balance\n",
    "        \n",
    "        print(\"PIN created successfully\")\n",
    "        self.menu()\n",
    "        \n",
    "    def change_pin(self):\n",
    "        current_pin = input(\"Enter your current PIN\")\n",
    "        if current_pin == self.pin:\n",
    "            new_pin = int(input(\"Enter new PIN\"))\n",
    "            self.pin = new_pin\n",
    "            print(\"PIN changed successfully\")\n",
    "            self.menu()\n",
    "        else:\n",
    "            print(\"Ooo stree kal aana\")\n",
    "            self.menu()\n",
    "        \n",
    "\n",
    "    def check_balance(self):\n",
    "        user_pin = input(\"Enter your PIN\")\n",
    "        if user_pin == self.pin:\n",
    "            print(f\"Your balance is: {self.balance}\")\n",
    "            self.menu()\n",
    "        else:\n",
    "            print(\"Ayy tu jaa reeeeeeee\")\n",
    "            self.menu()\n",
    "            \n",
    "    def withdraw_cash(self):\n",
    "        user_pin = input(\"Enter your PIN\")\n",
    "        if user_pin == self.pin:\n",
    "            amount = int(input(\"Enter amount to withdraw..\"))\n",
    "            if int(amount) <= self.balance:\n",
    "                self.balance = self.balance - amount\n",
    "                print(f\"Rs.{amount} withdrawn successfully!!\")\n",
    "                self.menu()\n",
    "            else:\n",
    "                print(\"Insufficient balance\")\n",
    "                self.menu()\n",
    "                \n",
    "            print(f\"Your balance is: {self.balance}\")\n",
    "            self.menu()\n",
    "        else:\n",
    "            print(\"nahi tu ese ni maanega ruk, ruk teri maa ki\")\n",
    "            self.menu()\n",
    "        "
   ]
  },
  {
   "cell_type": "code",
   "execution_count": 4,
   "metadata": {},
   "outputs": [
    {
     "name": "stdout",
     "output_type": "stream",
     "text": [
      "PIN created successfully\n",
      "PIN changed successfully\n"
     ]
    },
    {
     "ename": "",
     "evalue": "",
     "output_type": "error",
     "traceback": [
      "\u001b[1;31mThe Kernel crashed while executing code in the current cell or a previous cell. \n",
      "\u001b[1;31mPlease review the code in the cell(s) to identify a possible cause of the failure. \n",
      "\u001b[1;31mClick <a href='https://aka.ms/vscodeJupyterKernelCrash'>here</a> for more info. \n",
      "\u001b[1;31mView Jupyter <a href='command:jupyter.viewOutput'>log</a> for further details."
     ]
    }
   ],
   "source": [
    "p1 = Atm()"
   ]
  },
  {
   "cell_type": "code",
   "execution_count": null,
   "metadata": {},
   "outputs": [],
   "source": []
  },
  {
   "cell_type": "code",
   "execution_count": null,
   "metadata": {},
   "outputs": [],
   "source": []
  },
  {
   "cell_type": "code",
   "execution_count": null,
   "metadata": {},
   "outputs": [],
   "source": []
  }
 ],
 "metadata": {
  "kernelspec": {
   "display_name": "Python 3",
   "language": "python",
   "name": "python3"
  },
  "language_info": {
   "codemirror_mode": {
    "name": "ipython",
    "version": 3
   },
   "file_extension": ".py",
   "mimetype": "text/x-python",
   "name": "python",
   "nbconvert_exporter": "python",
   "pygments_lexer": "ipython3",
   "version": "3.12.4"
  }
 },
 "nbformat": 4,
 "nbformat_minor": 2
}
