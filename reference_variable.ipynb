{
 "cells": [
  {
   "cell_type": "code",
   "execution_count": 1,
   "metadata": {},
   "outputs": [],
   "source": [
    "class Person:\n",
    "    def __init__(self, name_input, country_input):\n",
    "        self.name = name_input\n",
    "        self.country = country_input\n",
    "        \n",
    "    def greet(self):\n",
    "        if self.country == 'india':\n",
    "            print(f\"Namaste {self.name}\")\n",
    "        else:\n",
    "            print(f\"Hello {self.name}\")"
   ]
  },
  {
   "cell_type": "code",
   "execution_count": 2,
   "metadata": {},
   "outputs": [],
   "source": [
    "p1 = Person('Kara', 'india')\n",
    "p2 = Person('Karan', 'USA')"
   ]
  },
  {
   "cell_type": "code",
   "execution_count": 6,
   "metadata": {},
   "outputs": [
    {
     "name": "stdout",
     "output_type": "stream",
     "text": [
      "Namaste Kara\n",
      "None\n",
      "Hello Karan\n",
      "None\n"
     ]
    }
   ],
   "source": [
    "print(p1.greet())\n",
    "print(p2.greet())"
   ]
  },
  {
   "cell_type": "code",
   "execution_count": 1,
   "metadata": {},
   "outputs": [
    {
     "data": {
      "text/plain": [
       "<__main__.Person1 at 0x1087489b0>"
      ]
     },
     "execution_count": 1,
     "metadata": {},
     "output_type": "execute_result"
    }
   ],
   "source": [
    "## Object without a reference\n",
    "\n",
    "class Person1:\n",
    "    def __init__(self):\n",
    "        self.name = 'kara'\n",
    "        self.gender = 'male'\n",
    "        \n",
    "\n",
    "\n",
    "Person1()"
   ]
  },
  {
   "cell_type": "code",
   "execution_count": 7,
   "metadata": {},
   "outputs": [
    {
     "name": "stdout",
     "output_type": "stream",
     "text": [
      "4436710832\n",
      "4436710832\n"
     ]
    }
   ],
   "source": [
    "p = Person1()\n",
    "q=p\n",
    "\n",
    "print(id(p))\n",
    "print(id(q))"
   ]
  },
  {
   "cell_type": "code",
   "execution_count": null,
   "metadata": {},
   "outputs": [],
   "source": []
  }
 ],
 "metadata": {
  "kernelspec": {
   "display_name": "Python 3",
   "language": "python",
   "name": "python3"
  },
  "language_info": {
   "codemirror_mode": {
    "name": "ipython",
    "version": 3
   },
   "file_extension": ".py",
   "mimetype": "text/x-python",
   "name": "python",
   "nbconvert_exporter": "python",
   "pygments_lexer": "ipython3",
   "version": "3.12.4"
  }
 },
 "nbformat": 4,
 "nbformat_minor": 2
}
