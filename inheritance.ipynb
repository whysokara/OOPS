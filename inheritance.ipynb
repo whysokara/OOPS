{
 "cells": [
  {
   "cell_type": "code",
   "execution_count": 47,
   "metadata": {},
   "outputs": [],
   "source": [
    "# parent class\n",
    "class User:\n",
    "    date = 'today'\n",
    "    def __init__(self):\n",
    "        self.name = 'kara'\n",
    "\n",
    "    def login(self):\n",
    "        print('login successfull')\n",
    "\n",
    "    def logout(self):\n",
    "        print(\"Logged out!!!!!\")\n",
    "\n",
    "# child class\n",
    "class Student(User):\n",
    "    def __init__(self):\n",
    "        self.rollno = 100   \n",
    "\n",
    "    def enroll(self):\n",
    "        print(\"enroll into the course\")"
   ]
  },
  {
   "cell_type": "code",
   "execution_count": 48,
   "metadata": {},
   "outputs": [],
   "source": [
    "u1 = User()\n",
    "s1 = Student()"
   ]
  },
  {
   "cell_type": "code",
   "execution_count": 49,
   "metadata": {},
   "outputs": [
    {
     "name": "stdout",
     "output_type": "stream",
     "text": [
      "login successfull\n",
      "login successfull\n",
      "enroll into the course\n",
      "login successfull\n"
     ]
    },
    {
     "data": {
      "text/plain": [
       "100"
      ]
     },
     "execution_count": 49,
     "metadata": {},
     "output_type": "execute_result"
    }
   ],
   "source": [
    "\n",
    "\n",
    "u1.login()\n",
    "s1.login()\n",
    "s1.enroll()\n",
    "s1.login()\n",
    "s1.date\n",
    "s1.rollno"
   ]
  },
  {
   "cell_type": "code",
   "execution_count": null,
   "metadata": {},
   "outputs": [],
   "source": []
  }
 ],
 "metadata": {
  "kernelspec": {
   "display_name": "venv",
   "language": "python",
   "name": "python3"
  },
  "language_info": {
   "codemirror_mode": {
    "name": "ipython",
    "version": 3
   },
   "file_extension": ".py",
   "mimetype": "text/x-python",
   "name": "python",
   "nbconvert_exporter": "python",
   "pygments_lexer": "ipython3",
   "version": "3.12.8"
  }
 },
 "nbformat": 4,
 "nbformat_minor": 2
}
