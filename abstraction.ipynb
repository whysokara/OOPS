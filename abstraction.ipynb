{
 "cells": [
  {
   "cell_type": "code",
   "execution_count": 6,
   "metadata": {},
   "outputs": [],
   "source": [
    "from abc import ABC, abstractmethod\n",
    "class BankApp(ABC):\n",
    "\n",
    "    def database(self):\n",
    "        print(\"Connected to db\")\n",
    "    \n",
    "    @abstractmethod\n",
    "    def Security(self):\n",
    "        pass"
   ]
  },
  {
   "cell_type": "code",
   "execution_count": 11,
   "metadata": {},
   "outputs": [],
   "source": [
    "class MobileApp(BankApp):\n",
    "\n",
    "    def mobile_login(self):\n",
    "        print('login inot mobile')\n",
    "\n",
    "    ## we have to have this @abstractmethod in this class inorder to use methods from BankApp class\n",
    "    def Security(self):\n",
    "        print(\"Mobile security\")    "
   ]
  },
  {
   "cell_type": "code",
   "execution_count": 13,
   "metadata": {},
   "outputs": [
    {
     "name": "stdout",
     "output_type": "stream",
     "text": [
      "COnnected to db\n"
     ]
    }
   ],
   "source": [
    "obj = MobileApp()\n",
    "obj.database()"
   ]
  },
  {
   "cell_type": "markdown",
   "metadata": {},
   "source": []
  }
 ],
 "metadata": {
  "kernelspec": {
   "display_name": "venv",
   "language": "python",
   "name": "python3"
  },
  "language_info": {
   "codemirror_mode": {
    "name": "ipython",
    "version": 3
   },
   "file_extension": ".py",
   "mimetype": "text/x-python",
   "name": "python",
   "nbconvert_exporter": "python",
   "pygments_lexer": "ipython3",
   "version": "3.12.8"
  }
 },
 "nbformat": 4,
 "nbformat_minor": 2
}
