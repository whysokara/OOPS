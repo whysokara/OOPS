{
 "cells": [
  {
   "cell_type": "code",
   "execution_count": 8,
   "metadata": {},
   "outputs": [],
   "source": [
    "class Fraction:\n",
    "    #Parameterized constructor\n",
    "    def __init__(self, x, y):\n",
    "        self.num = x\n",
    "        self.deno = y\n",
    "        print(x/y)\n",
    "        \n",
    "    def __str__(self):\n",
    "        # return '{}/{}'.format(self.num, self.deno)\n",
    "        return f\"{self.num}/{self.deno}\""
   ]
  },
  {
   "cell_type": "code",
   "execution_count": 11,
   "metadata": {},
   "outputs": [
    {
     "name": "stdout",
     "output_type": "stream",
     "text": [
      "0.75\n",
      "3/4\n"
     ]
    }
   ],
   "source": [
    "fr1 = Fraction(3,4)\n",
    "print(fr1)"
   ]
  },
  {
   "cell_type": "code",
   "execution_count": null,
   "metadata": {},
   "outputs": [],
   "source": []
  }
 ],
 "metadata": {
  "kernelspec": {
   "display_name": "Python 3",
   "language": "python",
   "name": "python3"
  },
  "language_info": {
   "codemirror_mode": {
    "name": "ipython",
    "version": 3
   },
   "file_extension": ".py",
   "mimetype": "text/x-python",
   "name": "python",
   "nbconvert_exporter": "python",
   "pygments_lexer": "ipython3",
   "version": "3.12.4"
  }
 },
 "nbformat": 4,
 "nbformat_minor": 2
}
